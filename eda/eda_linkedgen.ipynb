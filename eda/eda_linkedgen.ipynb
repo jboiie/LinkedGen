{
 "cells": [
  {
   "cell_type": "markdown",
   "id": "157ac0fd",
   "metadata": {},
   "source": [
    "# LinkedGen LinkedIn Post Dataset - Exploratory Data Analysis (EDA)\n",
    "\n",
    "This notebook provides an exploratory data analysis (EDA) of the processed LinkedIn post dataset. We analyze the train and validation splits, visualize distributions, and explore key patterns in the data."
   ]
  },
  {
   "cell_type": "markdown",
   "id": "d2424fe1",
   "metadata": {},
   "source": [
    "## 1. Import Required Libraries"
   ]
  },
  {
   "cell_type": "code",
   "execution_count": null,
   "id": "8b5b2433",
   "metadata": {},
   "outputs": [],
   "source": [
    "import pandas as pd\n",
    "import numpy as np\n",
    "import matplotlib.pyplot as plt\n",
    "import seaborn as sns\n",
    "import os\n",
    "\n",
    "# Set plotting style\n",
    "sns.set(style='whitegrid')\n",
    "%matplotlib inline"
   ]
  },
  {
   "cell_type": "markdown",
   "id": "806f420a",
   "metadata": {},
   "source": [
    "## 2. Load Train and Validation Data"
   ]
  },
  {
   "cell_type": "code",
   "execution_count": null,
   "id": "bbefd78a",
   "metadata": {},
   "outputs": [],
   "source": [
    "# Define data paths\n",
    "train_path = os.path.join('..', 'data', 'train.csv')\n",
    "val_path = os.path.join('..', 'data', 'val.csv')\n",
    "\n",
    "# Load datasets\n",
    "train_df = pd.read_csv(train_path, names=[\"text\", \"category\", \"tone\"], header=None)\n",
    "val_df = pd.read_csv(val_path, names=[\"text\", \"category\", \"tone\"], header=None)\n",
    "\n",
    "print('Train set:')\n",
    "display(train_df.head())\n",
    "print('Validation set:')\n",
    "display(val_df.head())"
   ]
  },
  {
   "cell_type": "markdown",
   "id": "46e458c3",
   "metadata": {},
   "source": [
    "## 3. Overview of Dataset Structure"
   ]
  },
  {
   "cell_type": "code",
   "execution_count": null,
   "id": "04586a2b",
   "metadata": {},
   "outputs": [],
   "source": [
    "# Train set overview\n",
    "print('Train set shape:', train_df.shape)\n",
    "print('Train columns:', train_df.columns.tolist())\n",
    "print('Train missing values:')\n",
    "display(train_df.isnull().sum())\n",
    "\n",
    "# Validation set overview\n",
    "print('Validation set shape:', val_df.shape)\n",
    "print('Validation columns:', val_df.columns.tolist())\n",
    "print('Validation missing values:')\n",
    "display(val_df.isnull().sum())"
   ]
  },
  {
   "cell_type": "markdown",
   "id": "ae1f55ad",
   "metadata": {},
   "source": [
    "## 4. Distribution of Categories"
   ]
  },
  {
   "cell_type": "code",
   "execution_count": null,
   "id": "31b44a7e",
   "metadata": {},
   "outputs": [],
   "source": [
    "# Plot category distribution for train set\n",
    "plt.figure(figsize=(8,4))\n",
    "sns.countplot(data=train_df, x='category', order=train_df['category'].value_counts().index)\n",
    "plt.title('Category Distribution (Train)')\n",
    "plt.xticks(rotation=45)\n",
    "plt.tight_layout()\n",
    "plt.show()\n",
    "\n",
    "# Plot category distribution for validation set\n",
    "plt.figure(figsize=(8,4))\n",
    "sns.countplot(data=val_df, x='category', order=val_df['category'].value_counts().index)\n",
    "plt.title('Category Distribution (Validation)')\n",
    "plt.xticks(rotation=45)\n",
    "plt.tight_layout()\n",
    "plt.show()"
   ]
  },
  {
   "cell_type": "markdown",
   "id": "974217d5",
   "metadata": {},
   "source": [
    "## 5. Distribution of Tone"
   ]
  },
  {
   "cell_type": "code",
   "execution_count": null,
   "id": "c8e4c989",
   "metadata": {},
   "outputs": [],
   "source": [
    "# Plot tone distribution for train set\n",
    "plt.figure(figsize=(8,4))\n",
    "sns.countplot(data=train_df, x='tone', order=train_df['tone'].value_counts().index)\n",
    "plt.title('Tone Distribution (Train)')\n",
    "plt.xticks(rotation=45)\n",
    "plt.tight_layout()\n",
    "plt.show()\n",
    "\n",
    "# Plot tone distribution for validation set\n",
    "plt.figure(figsize=(8,4))\n",
    "sns.countplot(data=val_df, x='tone', order=val_df['tone'].value_counts().index)\n",
    "plt.title('Tone Distribution (Validation)')\n",
    "plt.xticks(rotation=45)\n",
    "plt.tight_layout()\n",
    "plt.show()"
   ]
  },
  {
   "cell_type": "markdown",
   "id": "98e5f687",
   "metadata": {},
   "source": [
    "## 6. Text Length Analysis"
   ]
  },
  {
   "cell_type": "code",
   "execution_count": null,
   "id": "12c306c5",
   "metadata": {},
   "outputs": [],
   "source": [
    "# Compute text lengths (number of words and characters)\n",
    "train_df['text_word_count'] = train_df['text'].apply(lambda x: len(str(x).split()))\n",
    "train_df['text_char_count'] = train_df['text'].apply(lambda x: len(str(x)))\n",
    "\n",
    "# Plot word count distribution\n",
    "plt.figure(figsize=(8,4))\n",
    "sns.histplot(train_df['text_word_count'], bins=30, kde=True)\n",
    "plt.title('Text Word Count Distribution (Train)')\n",
    "plt.xlabel('Number of Words')\n",
    "plt.tight_layout()\n",
    "plt.show()\n",
    "\n",
    "# Plot character count distribution\n",
    "plt.figure(figsize=(8,4))\n",
    "sns.histplot(train_df['text_char_count'], bins=30, kde=True)\n",
    "plt.title('Text Character Count Distribution (Train)')\n",
    "plt.xlabel('Number of Characters')\n",
    "plt.tight_layout()\n",
    "plt.show()"
   ]
  },
  {
   "cell_type": "markdown",
   "id": "4bc44f7c",
   "metadata": {},
   "source": [
    "## 7. Category vs. Tone Crosstab"
   ]
  },
  {
   "cell_type": "code",
   "execution_count": null,
   "id": "063b4924",
   "metadata": {},
   "outputs": [],
   "source": [
    "# Create crosstab of category vs. tone\n",
    "crosstab = pd.crosstab(train_df['category'], train_df['tone'])\n",
    "plt.figure(figsize=(10,6))\n",
    "sns.heatmap(crosstab, annot=True, fmt='d', cmap='Blues')\n",
    "plt.title('Category vs. Tone Crosstab (Train)')\n",
    "plt.ylabel('Category')\n",
    "plt.xlabel('Tone')\n",
    "plt.tight_layout()\n",
    "plt.show()"
   ]
  },
  {
   "cell_type": "markdown",
   "id": "320cee19",
   "metadata": {},
   "source": [
    "## 8. Save Figures to Output Pane"
   ]
  },
  {
   "cell_type": "code",
   "execution_count": null,
   "id": "29ea457b",
   "metadata": {},
   "outputs": [],
   "source": [
    "# Example: Save last figure (heatmap) to file and display\n",
    "output_dir = '../eda/figures'\n",
    "os.makedirs(output_dir, exist_ok=True)\n",
    "fig_path = os.path.join(output_dir, 'category_vs_tone_heatmap.png')\n",
    "plt.figure(figsize=(10,6))\n",
    "sns.heatmap(crosstab, annot=True, fmt='d', cmap='Blues')\n",
    "plt.title('Category vs. Tone Crosstab (Train)')\n",
    "plt.ylabel('Category')\n",
    "plt.xlabel('Tone')\n",
    "plt.tight_layout()\n",
    "plt.savefig(fig_path)\n",
    "plt.show()\n",
    "print(f'Figure saved to {fig_path}')"
   ]
  },
  {
   "cell_type": "markdown",
   "id": "12715604",
   "metadata": {},
   "source": [
    "## Based on the performances of the EDA, we find that the dataset is `well structured and organized`. So with this we are ready to move onto the model training."
   ]
  }
 ],
 "metadata": {
  "kernelspec": {
   "display_name": "Python 3",
   "language": "python",
   "name": "python3"
  },
  "language_info": {
   "codemirror_mode": {
    "name": "ipython",
    "version": 3
   },
   "file_extension": ".py",
   "mimetype": "text/x-python",
   "name": "python",
   "nbconvert_exporter": "python",
   "pygments_lexer": "ipython3",
   "version": "3.13.3"
  }
 },
 "nbformat": 4,
 "nbformat_minor": 5
}
